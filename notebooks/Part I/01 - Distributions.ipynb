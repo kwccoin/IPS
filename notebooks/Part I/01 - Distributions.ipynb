{
 "cells": [
  {
   "cell_type": "markdown",
   "id": "married-publication",
   "metadata": {
    "tags": []
   },
   "source": [
    "## Introduction and background\n",
    "\n",
    "These notebooks describe how to undertake analyses introduced as examples in the\n",
    "Ninth Edition of *Introduction to the Practice of Statistics* (2017) by Moore, McCabe, and Craig.\n",
    "The data used in the notebooks are from the R version of the notebooks found at https://nhorton.people.amherst.edu/ips9/.\n",
    "\n",
    "## Setup\n",
    "\n",
    "First load the IPS (short for *Introduction to the Practice of Statistics*) package and dependencies:"
   ]
  },
  {
   "cell_type": "code",
   "execution_count": null,
   "id": "suited-isaac",
   "metadata": {},
   "outputs": [],
   "source": [
    "(ql:quickload :ips)"
   ]
  },
  {
   "cell_type": "code",
   "execution_count": null,
   "id": "coordinate-treasurer",
   "metadata": {
    "tags": []
   },
   "outputs": [],
   "source": [
    "(ql:quickload :ips)\n",
    "\n",
    "(in-package :ips)\n",
    "\n",
    "(do-external-symbols (s (find-package \"PACKAGE\"))\n",
    "  (print s))\n",
    "\n",
    "(format t \"Hello world\")\n"
   ]
  },
  {
   "cell_type": "markdown",
   "id": "knowing-expense",
   "metadata": {},
   "source": [
    "# Chapter 1: Looking at data &mdash; distributions\n",
    "\n",
    "## 1.1 Key characteristics of a data set\n",
    "\n",
    "## 1.2 Displaying distributions with graphs\n",
    "\n",
    "### Categorical variables: Bar graphs and pie charts\n",
    "\n",
    "The distribution of a categorical variable lists the categories and gives either the count or the percent of cases that fall in each category. An alternative to the percent is the proportion, the count divided by the sum of the counts. Note that the percent is simply the proportion times 100.\n",
    "\n",
    "#### Example 1.7 The distribution of a categorical variable using a bar graph.\n",
    "\n",
    "In example 1.7, the distribution of a categorical variable is examined along with a demonstration of the count of each catagory as a percentage of the total. The data set is the preferences for online information resources taken from a survey of 552 first year university students.\n",
    "\n",
    "First, read the data into a data frame with the name 'online'. Note that we're not using the usual convention of \\*earmuffs\\* on the variable name. The example data sets are named after the example number in the book, e.g. example 1.7 data is named eg01-07."
   ]
  },
  {
   "cell_type": "code",
   "execution_count": null,
   "id": "fatal-peninsula",
   "metadata": {},
   "outputs": [],
   "source": [
    "(defparameter online (read-csv (dex:get eg01-07 :want-stream t)))"
   ]
  },
  {
   "cell_type": "markdown",
   "id": "studied-concentrate",
   "metadata": {},
   "source": [
    "We can view the counts by typing the variable's name:"
   ]
  },
  {
   "cell_type": "code",
   "execution_count": null,
   "id": "persistent-asbestos",
   "metadata": {},
   "outputs": [],
   "source": [
    "online"
   ]
  },
  {
   "cell_type": "markdown",
   "id": "exclusive-invite",
   "metadata": {},
   "source": [
    "On page 10, figure 1.2 shows the data as a bar chart. We will create a Vega-Lite specification for this data:"
   ]
  },
  {
   "cell_type": "code",
   "execution_count": null,
   "id": "consecutive-double",
   "metadata": {},
   "outputs": [],
   "source": [
    "(defparameter online-bar-chart (bar-chart online \"SOURCE\" \"COUNT\"))"
   ]
  },
  {
   "cell_type": "markdown",
   "id": "developed-ethnic",
   "metadata": {},
   "source": [
    "and plot it:"
   ]
  },
  {
   "cell_type": "code",
   "execution_count": null,
   "id": "reduced-explanation",
   "metadata": {},
   "outputs": [],
   "source": [
    "(plot online-bar-chart)"
   ]
  },
  {
   "cell_type": "markdown",
   "id": "fifty-pension",
   "metadata": {},
   "source": [
    "We can see that the source labels are overlapping. Let's fix this by adding a width setting:"
   ]
  },
  {
   "cell_type": "code",
   "execution_count": null,
   "id": "wired-official",
   "metadata": {},
   "outputs": [],
   "source": [
    "(plot (pushnew '(\"width\" . 300) online-bar-chart))"
   ]
  },
  {
   "cell_type": "markdown",
   "id": "lightweight-messaging",
   "metadata": {},
   "source": [
    "You should always consider the best way to order the values in a bar chart. In this case, we will sort X\n",
    "by the value of Y, decending:"
   ]
  },
  {
   "cell_type": "code",
   "execution_count": null,
   "id": "split-think",
   "metadata": {},
   "outputs": [],
   "source": [
    "(pushnew '(\"sort\" . \"-y\") (accesses online-bar-chart :encoding :x))"
   ]
  },
  {
   "cell_type": "code",
   "execution_count": null,
   "id": "vietnamese-constitutional",
   "metadata": {},
   "outputs": [],
   "source": [
    "(plot online-bar-chart)"
   ]
  },
  {
   "cell_type": "markdown",
   "id": "cloudy-expression",
   "metadata": {},
   "source": [
    "#### Example 1.10 Pie chart for the online resource preference data\n",
    "Figure 1.3 (page 11) displays the same data in a pie chart. We can create a spec and plot the data as pie chart like this:"
   ]
  },
  {
   "cell_type": "code",
   "execution_count": null,
   "id": "minute-founder",
   "metadata": {},
   "outputs": [],
   "source": [
    "(defparameter online-pie-chart (pie-chart online \"SOURCE\" \"COUNT\"))"
   ]
  },
  {
   "cell_type": "code",
   "execution_count": null,
   "id": "social-navigator",
   "metadata": {},
   "outputs": [],
   "source": [
    "(plot online-pie-chart)"
   ]
  },
  {
   "cell_type": "markdown",
   "id": "mental-honolulu",
   "metadata": {},
   "source": [
    "### Quantitative Variables: Stemplots and histograms\n",
    "A _stemplot_ (stem-and-leaf plot) provides a quick graphical summary of the shape of a distribution. They are good for small data sets. For larger data sets, histograms work best.\n",
    "\n",
    "#### Example 1.11 - Soluble corn fiber and calcium\n",
    "This example show a stem-and-leaf plot of the effect of soluble corn fiber (SCF) on the absorption of calcium in adolescent boys and girls."
   ]
  },
  {
   "cell_type": "code",
   "execution_count": null,
   "id": "automatic-geography",
   "metadata": {
    "tags": []
   },
   "outputs": [],
   "source": [
    "(define-data-frame scf (read-csv (dex:get ips:eg01-11 :want-stream t)))"
   ]
  },
  {
   "cell_type": "markdown",
   "id": "positive-hebrew",
   "metadata": {},
   "source": [
    "Let's take a high-level look at this data set:"
   ]
  },
  {
   "cell_type": "code",
   "execution_count": null,
   "id": "greek-thompson",
   "metadata": {},
   "outputs": [],
   "source": [
    "(summary scf)"
   ]
  },
  {
   "cell_type": "markdown",
   "id": "sweet-tunnel",
   "metadata": {},
   "source": [
    "A data-frame of 3 variables and 46 observations. This is small enough for us to print in its entirety. We'll use a helper function that we've added to the `IPS` package to make printing with Lisp-Stat easier when working with notebooks."
   ]
  },
  {
   "cell_type": "code",
   "execution_count": null,
   "id": "comparable-bachelor",
   "metadata": {},
   "outputs": [],
   "source": [
    "(print-df scf)"
   ]
  },
  {
   "cell_type": "markdown",
   "id": "medium-senator",
   "metadata": {},
   "source": [
    "We want the treatment group, so we'll use the [select](https://lisp-stat.dev/docs/tasks/select/) package to subset the data from ID 24 to 46:"
   ]
  },
  {
   "cell_type": "code",
   "execution_count": null,
   "id": "revolutionary-antibody",
   "metadata": {},
   "outputs": [],
   "source": [
    "(stem-and-leaf (select scf (range 23 nil) 'scf:absorption)) ;arrays are 0 based, so we start at 23"
   ]
  },
  {
   "cell_type": "markdown",
   "id": "elder-swiss",
   "metadata": {},
   "source": [
    "#### Examples 1.12 & 1.13\n",
    "Example 1.12 compares the data between the SCF and control groups using a back-to-back stemplot. Example 1.13 demonstrates *splitting stems* and *trimming* digits in the leaves to fine-tune the display of the stemplot to better observe characteristics of the data. Trimming (rounding) the data can be done using Common Lisp before plotting. Implementing a back-to-back stemplot is outlined in [issue #1](https://github.com/Lisp-Stat/plot/issues/1) and splitting in [issue #2](https://github.com/Lisp-Stat/plot/issues/2)"
   ]
  },
  {
   "cell_type": "code",
   "execution_count": null,
   "id": "advanced-token",
   "metadata": {},
   "outputs": [],
   "source": []
  },
  {
   "cell_type": "code",
   "execution_count": null,
   "id": "39ffcf50",
   "metadata": {},
   "outputs": [],
   "source": []
  },
  {
   "cell_type": "code",
   "execution_count": null,
   "id": "445549d9",
   "metadata": {},
   "outputs": [],
   "source": []
  }
 ],
 "metadata": {
  "kernelspec": {
   "display_name": "Common Lisp",
   "language": "common-lisp",
   "name": "common-lisp"
  },
  "language_info": {
   "codemirror_mode": "text/x-common-lisp",
   "file_extension": ".lisp",
   "mimetype": "text/x-common-lisp",
   "name": "common-lisp",
   "pygments_lexer": "common-lisp",
   "version": "2.0.10.7-1968e18ce"
  }
 },
 "nbformat": 4,
 "nbformat_minor": 5
}
