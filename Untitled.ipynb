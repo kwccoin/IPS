{
 "cells": [
  {
   "cell_type": "code",
   "execution_count": null,
   "id": "4bd6141e",
   "metadata": {},
   "outputs": [],
   "source": []
  }
 ],
 "metadata": {
  "kernelspec": {
   "display_name": "Common Lisp",
   "language": "common-lisp",
   "name": "common-lisp"
  }
 },
 "nbformat": 4,
 "nbformat_minor": 5
}
